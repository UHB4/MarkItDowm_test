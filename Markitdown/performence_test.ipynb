{
 "cells": [
  {
   "cell_type": "markdown",
   "metadata": {},
   "source": [
    "## PDF 테스트\n",
    "\n",
    "-   [테스트 문서](https://drive.google.com/file/d/14DqDFBTvIUJijO3pn6x5VZhQXJxeOJEy/view)\n"
   ]
  },
  {
   "cell_type": "code",
   "execution_count": null,
   "metadata": {},
   "outputs": [
    {
     "name": "stderr",
     "output_type": "stream",
     "text": [
      "CropBox missing from /Page, defaulting to MediaBox\n"
     ]
    },
    {
     "name": "stdout",
     "output_type": "stream",
     "text": [
      "Simple Report\n",
      "Subtitle\n",
      "\n",
      "To get started, just tap or click this placeholder text and begin typing. You can\n",
      "\n",
      "view and edit this document on your Mac, iPad, iPhone, or on iCloud.com.\n",
      "\n",
      "It’s easy to edit text, change fonts and add beautiful graphics. Use paragraph\n",
      "\n",
      "styles to get a consistent look throughout your document. For example, this\n",
      "\n",
      "paragraph uses Body style. You can change it in the Text tab of the Format\n",
      "\n",
      "controls.\n",
      "\n",
      "To add photos, image galleries, audio clips, videos, charts or any of more than\n",
      "\n",
      "700 customisable shapes, tap or click one of the insert buttons in the toolbar\n",
      "\n",
      "or drag and drop the objects onto the page. You can layer objects, resize them\n",
      "\n",
      "and place them anywhere on the page. To change how an object moves with\n",
      "\n",
      "text, select the object and then tap or click the Arrange tab in the Format\n",
      "\n",
      "controls.\n",
      "\n",
      "Heading\n",
      "\n",
      "You can use Pages for both word processing and page layout. This Simple\n",
      "\n",
      "Report template is set up for word processing, so your text flows from one\n",
      "\n",
      "page to the next as you type, with new pages created automatically when you\n",
      "\n",
      "reach the end of a page.\n",
      "\n",
      "In page layout documents, you can manually rearrange pages and freely\n",
      "\n",
      "position text boxes, images and other objects on the page. To create a page\n",
      "\n",
      "layout document, choose a page layout template in the template chooser. You\n",
      "\n",
      "can also change this document to page layout on your Mac, iPad or iPhone by\n",
      "\n",
      "turning off Document Body in the Document controls.\n",
      "\n",
      "“This is an example of a pull quote (a key phrase from your\n",
      "report). Tap or click this text to add your own.”\n",
      "\n",
      "Footer\n",
      "\n",
      "1\n",
      "\n",
      "\n"
     ]
    }
   ],
   "source": [
    "from markitdown import MarkItDown\n",
    "\n",
    "md = MarkItDown()\n",
    "\n",
    "result = md.convert(\n",
    "    \"../samples/sample.pdf\",\n",
    ")\n",
    "\n",
    "print(result.text_content)"
   ]
  },
  {
   "cell_type": "markdown",
   "metadata": {},
   "source": [
    "## Excel 테스트\n",
    "\n",
    "-   [테스트 문서](https://docs.google.com/spreadsheets/d/1sVYbDyaBFUL_JY1zcZM5bIct6NCJyRzB/edit?usp=sharing&ouid=112513971996779109920&rtpof=true&sd=true)\n"
   ]
  },
  {
   "cell_type": "code",
   "execution_count": 150,
   "metadata": {},
   "outputs": [
    {
     "name": "stdout",
     "output_type": "stream",
     "text": [
      "## Sheet1\n",
      "| Unnamed: 0 | Unnamed: 1 | Unnamed: 2 | Unnamed: 3 | Unnamed: 4 | Unnamed: 5 | Unnamed: 6 | Unnamed: 7 | Unnamed: 8 | Unnamed: 9 | Unnamed: 10 | Unnamed: 11 | 이미지 테스트해보자 |\n",
      "| --- | --- | --- | --- | --- | --- | --- | --- | --- | --- | --- | --- | --- |\n"
     ]
    }
   ],
   "source": [
    "from markitdown import MarkItDown\n",
    "\n",
    "md = MarkItDown()\n",
    "\n",
    "result = md.convert(\n",
    "    \"../samples/image_test.xlsx\",\n",
    ")\n",
    "\n",
    "print(result.text_content)"
   ]
  },
  {
   "cell_type": "markdown",
   "metadata": {},
   "source": [
    "## Image 테스트\n",
    "\n",
    "-   프롬프트로 이미지 텍스트 추출 테스트\n",
    "    -   [테스트 사진1](https://drive.google.com/file/d/1ipAjUQuuTOSzjd8u0ULEPOHm63Hk1gbZ/view?usp=drive_link)\n",
    "    -   [테스트 사진2](https://drive.google.com/file/d/1-rlND3wkAW0-tSvZkpl2t_nYOrz8j75Z/view?usp=sharing)\n",
    "    -   [테스트 사진3](https://drive.google.com/file/d/1AUZRY76aOPya78jOYVmn-Ox21N0rBN0I/view?usp=sharing)\n"
   ]
  },
  {
   "cell_type": "code",
   "execution_count": 140,
   "metadata": {},
   "outputs": [
    {
     "name": "stdout",
     "output_type": "stream",
     "text": [
      "\n",
      "# Description:\n",
      "제5조 (회원의 항변권)\n",
      "\n",
      "제6조 (회원의 기한이익 상실)\n",
      "\n",
      "제7조 (상품의 소유권 유보)\n",
      "\n",
      "제8조 (매도인의 할부계약의 해제)\n",
      "\n",
      "\\[표1\\] 신용제공자의 주소 및 할부수수료율\n",
      "\n",
      "| 카드사 | 주소 | 할부수수료율 |\n",
      "| ------ | ---- | -------- |\n",
      "| 롯데 카드 | 서울 중구 을지로 170 을지트윈타워 | 연 7.1~19.9% |\n",
      "| 비 씨 카 드 | 서울 중구 세종대로 67 | 연 10.0~19.9% |\n",
      "| 삼성 카드 | 서울 중구 을지로 100 파이낸셜뉴스 신한카드 | 연 9.5~19.9% |\n",
      "| 신한 카드 | 서울 중구 을지로 50 더케이트윈타워 | 연 8.9~19.5% |\n",
      "| 우 리 카 드 | 서울 영등포구 의사당대로 3 현대캐피탈빌딩 | 연 10.4~19.6% |\n",
      "| 하나 카 드 | 서울 중구 을지로 170 을지트윈타워 | 연 10.0~19.7% |\n",
      "| 현대 카 드 | 서울 중구 을지로 66 (을지로 2가) | 연 9.3~19.9% |\n",
      "| KB 국민카드 | 서울 중구 새문안로 76 | 연 10.1~19.9% |\n",
      "| NH 농협은행 | 서울 중구 충정로 29 길 30 | 연 8.6~19.5% |\n",
      "\n",
      "*상기 카드사와 할부 수수료율은 카드사 사정에 따라 변동될 수 있습니다.*\n",
      "\n",
      "철회•항변 요청서\n",
      "\n",
      "| 상품 구매일 | 구매장소 | 구매품목 | 금액 |\n",
      "| ------ | -------- | ---- | ---- |\n",
      "|       |          |      |      |\n",
      "\n",
      "철회·항변 요청사유 (구체적으로 기재)\n",
      "\n",
      "회원번호 회원성명 전화번호 철회·항변요청일\n",
      "\n",
      "(인)\n",
      "\n",
      "* 철회·항변 요청시에는 상기사항을 기재하시어 이마트에브리데이 및 해당 카드사에 제출하여 주십시오. *\n",
      "\n",
      "emart everyday\n",
      "\n",
      "할 부 거 래 계 약 서\n",
      "\n"
     ]
    }
   ],
   "source": [
    "from markitdown import MarkItDown\n",
    "from openai import OpenAI\n",
    "import os\n",
    "\n",
    "client = OpenAI(api_key=os.getenv(\"OPENAI_API_KEY\"))\n",
    "md = MarkItDown(\n",
    "    llm_client=client,\n",
    "    llm_model=\"gpt-4o\",\n",
    ")\n",
    "\n",
    "llm_prompts = \"Please describe this image in korean. List only the visible information. Please extract and provide all the text included in the image accurately and do not describe non-text elements.\"\n",
    "\n",
    "result = md.convert(\"../samples/receipt2.jpg\", llm_prompt=llm_prompts)\n",
    "print(result.text_content)"
   ]
  },
  {
   "cell_type": "code",
   "execution_count": 139,
   "metadata": {},
   "outputs": [
    {
     "name": "stdout",
     "output_type": "stream",
     "text": [
      "\n",
      "# Description:\n",
      "경상남도 지정 보호수\n",
      "\n",
      "- 지정번호 : 2017-09-06\n",
      "- 지정일자 : 2017. 09. 06.\n",
      "- 수 종 : 소나무\n",
      "- 본 수 : 2본\n",
      "- 수 령 : 200년\n",
      "- 수 고 : 14m / 17m\n",
      "- 흉고둘레 : 3.7m / 4.2m\n",
      "- 관 리 자 : 악양면장\n",
      "- 스토리텔링 : 경사와 화합의 명제목\n",
      "조선시대 하동군수 임옥이 17세 되던 해 무과에 급제하여\n",
      "\"옥경\" 이라 불린 두 그루의 거대한 소나무\n",
      "이 마을 임씨 문중이 대대로 공부한 학당이 있었으며 학당터에 소나무\n",
      "한쪽은 임씨 퇴락을 막아준 표석에 심겨 이름 그대로 영원하리라는 희망을 품고 있다. 이후 평사리에는 지역민들에게 새로운 희망과 꿈을 전하며 그역할을 다하고 있으며 지리산 일대에서 가장 크고 오래된 소나무로 손꼽히다. 소나무는 천년을 바라보며 지역민들에게 추억의 장소이자 큰 자랑이며 미래에도 변치않고 보존할 지역의 소중한 자산이다.\n",
      "- 소 재 지 : 하동군 악양면 평사리 1229\n",
      "하동군수\n",
      "\n"
     ]
    }
   ],
   "source": [
    "from markitdown import MarkItDown\n",
    "from openai import OpenAI\n",
    "import os\n",
    "\n",
    "client = OpenAI(api_key=os.getenv(\"OPENAI_API_KEY\"))\n",
    "md = MarkItDown(\n",
    "    llm_client=client,\n",
    "    llm_model=\"gpt-4o\",\n",
    ")\n",
    "\n",
    "llm_prompts = \"Please describe this image in korean. List only the visible information. Please extract and provide all the text included in the image accurately and do not describe non-text elements.\"\n",
    "\n",
    "result = md.convert(\"../samples/notice_board.jpg\", llm_prompt=llm_prompts)\n",
    "print(result.text_content)"
   ]
  },
  {
   "cell_type": "code",
   "execution_count": 149,
   "metadata": {},
   "outputs": [
    {
     "name": "stdout",
     "output_type": "stream",
     "text": [
      "\n",
      "# Description:\n",
      "죄송하지만, 이 이미지를 직접 설명할 수 없습니다. 대신 이미지에서 보이는 모든 텍스트를 제공해 드리겠습니다.\n",
      "\n",
      "---\n",
      "\n",
      "처방전 (환자 보관용)\n",
      "\n",
      "조회기호: 000000000\n",
      "조제번호:\n",
      "1( )입원환자  2( )외래환자 3( )산재환자분 4( )자동차분 5( )기타( )\n",
      "요양기관기호:\n",
      "교부번호: 2019년 02월 15일\n",
      "조제자: 조혜정\n",
      "성명:\n",
      "주민등록번호:\n",
      "명칭:\n",
      "전화번호:\n",
      "\n",
      "발행일:\n",
      "의사:\n",
      "\n",
      "처방의뢰기관:\n",
      "보험자기호:\n",
      "가입자명:\n",
      "환자번호:\n",
      "요양기관명:\n",
      "\n",
      "645404010 - 올메사르탄정 7.5mg(핸릭사르)\n",
      "645404050 - 레보설피리드정\n",
      "659901070 - 에스씨타롤정(니트라프)\n",
      "국공비요\n",
      "\n",
      "이하 여백 -\n",
      "\n"
     ]
    }
   ],
   "source": [
    "from markitdown import MarkItDown\n",
    "from openai import OpenAI\n",
    "import os\n",
    "\n",
    "client = OpenAI(api_key=os.getenv(\"OPENAI_API_KEY\"))\n",
    "md = MarkItDown(\n",
    "    llm_client=client,\n",
    "    llm_model=\"gpt-4o\",\n",
    ")\n",
    "\n",
    "llm_prompts = \"Please describe this image in korean. List only the visible information. Please extract and provide all the text included in the image accurately and do not describe non-text elements.\"\n",
    "\n",
    "result = md.convert(\"../samples/prescription.png\", llm_prompt=llm_prompts)\n",
    "print(result.text_content)"
   ]
  },
  {
   "cell_type": "markdown",
   "metadata": {},
   "source": [
    "## Image metadata\n",
    "\n",
    "-   [테스트 사진](https://drive.google.com/file/d/1HwwLzU-GgNVXZPBGvSVwfE77cVpdZLvV/view?usp=drive_link)\n",
    "\n",
    "-   공식 소스코드 IamgeConverter 클래스를 확인하니 일단 ExifTool 을 설치해야 메타데이터를 추출할수있고,허용하고 있는 메타데이터는 아래가 전부\n",
    "    -        if metadata\n",
    "              for f in [\n",
    "                  \"ImageSize\",\n",
    "                  \"Title\",\n",
    "                  \"Caption\",\n",
    "                  \"Description\",\n",
    "                  \"Keywords\",\n",
    "                  \"Artist\",\n",
    "                  \"Author\",\n",
    "                  \"DateTimeOriginal\",\n",
    "                  \"CreateDate\",\n",
    "                  \"GPSPosition\",\n",
    "              ]:\n",
    "                  if f in metadata:\n",
    "                      md_content += f\"{f}: {metadata[f]}\\n\"\n"
   ]
  },
  {
   "cell_type": "code",
   "execution_count": 76,
   "metadata": {},
   "outputs": [
    {
     "name": "stdout",
     "output_type": "stream",
     "text": [
      "ImageSize: 4000x3000\n",
      "DateTimeOriginal: 2025:04:02 12:09:31\n",
      "CreateDate: 2025:04:02 12:09:31\n",
      "GPSPosition: 37 deg 29' 31.87\" N, 126 deg 59' 28.58\" E\n",
      "\n",
      "# Description:\n",
      "이 이미지는 책상 위에 놓인 원통형 제품의 모습을 보여줍니다. 제품은 하얀색이며, 표면에는 여러 언어로 된 설명과 함께 로고가 인쇄되어 있습니다. 주위에는 컴퓨터 모니터, 노트와 같은 물건들이 놓여 있습니다. 뒷배경은 다소 흐릿하게 처리되어 있습니다.\n",
      "\n"
     ]
    }
   ],
   "source": [
    "from markitdown import MarkItDown\n",
    "from openai import OpenAI\n",
    "import os\n",
    "\n",
    "client = OpenAI(api_key=os.getenv(\"OPENAI_API_KEY\"))\n",
    "md = MarkItDown(\n",
    "    llm_client=client,\n",
    "    llm_model=\"gpt-4o\",\n",
    "    exiftool_path=\"C:\\\\exiftool-13.26_64\\\\exiftool-13.26_64\\\\exiftool.exe\",\n",
    ")\n",
    "\n",
    "llm_prompts = \"Please describe this image in korean.\"\n",
    "\n",
    "# 카메라로 직접 찍은 사진(메타 데이터 많음)\n",
    "result = md.convert(\"../samples/label_sticker.jpg\", llm_prompt=llm_prompts)\n",
    "\n",
    "# 웹에서 다운로드한 이미지 (메타 데이터 적음)\n",
    "# result = md.convert(\"../samples/receipt.jpg\")\n",
    "print(result.text_content)"
   ]
  },
  {
   "cell_type": "markdown",
   "metadata": {},
   "source": [
    "## PPTX 테스트\n",
    "\n",
    "-   [테스트 파일](https://docs.google.com/presentation/d/1yXUkG2XWtPtWzbQD4ucs_Vga1GY2BDXf/edit?usp=sharing&ouid=112513971996779109920&rtpof=true&sd=true)\n"
   ]
  },
  {
   "cell_type": "code",
   "execution_count": 100,
   "metadata": {},
   "outputs": [
    {
     "name": "stdout",
     "output_type": "stream",
     "text": [
      "<!-- Slide number: 1 -->\n",
      "\n",
      "![이 이미지는 검은색 원 안에 흰색 집 모양이 있는 아이콘입니다. 주로 \"홈\" 또는 \"메인 화면\"으로 돌아가는 기능을 나타낼 때 사용됩니다.](그림29.jpg)\n",
      "8. 샘플 요청\n",
      "● SFA → Marketing → 샘플요청\n",
      "\n",
      "![이 이미지는 웹 애플리케이션의 사이드바 메뉴를 보여줍니다. - 상단에는 사용자 이름과 ID, 소속팀이 표시되어 있고, 로그아웃 기능이 있습니다. - 그 아래로 각종 관리 옵션들이 나열되어 있습니다: - 활동관리 - 거래처/고객 - 주문관리 - 수금관리 - 분석통계 - 제품설명회 - Marketing (마케팅) 아래에는 세부 관리 항목들이 있습니다: - 품목별담당PM관리 - 샘플요청 - 기부요청 - 기부요청 현황 - 문헌 신청 및 승인 - 제품 상세 현황 - 샘플 요청 현황 - 문헌 신청 현황 - 의약품기부현황 - 실적관리 - 목표관리 오른쪽에는 \"조회\", \"등록\" 버튼과 함께 하단에 상태 정보를 표시하는 섹션이 있습니다.](그림15.jpg)\n",
      "\n",
      "![이 파일은 \"샘플 요청\"이라는 제목의 인터페이스 화면을 보여줍니다. - 사용자 이름은 \"이상혁\"입니다. - 화면 상단에는 날짜를 선택할 수 있는 캘린더 입력란이 있으며, 기본 값으로 시작일은 2021-08-01, 종료일은 2024-08-05로 설정되어 있습니다. - \"품목명\" 입력란이 있으며, \"조회\"와 \"등록\" 버튼이 있습니다. - 하단에는 요청 내역이 표로 정리되어 있고, 각 요청은 요청일, 요청자, 거래처명, 상태로 구성되어 있습니다. - 예시로 2022-05-31에 \"병원기획팀 이상혁\"이 요청한 내역들이 나열되어 있습니다. 각 요청의 거래처명은 \"동국대학교일산불교병원\", \"국민건강보험공단일산병원\", \"의료법인명지의료재단명지병원\"이며, 상태는 모두 \"ERP적용\"으로 표시되어 있습니다.](그림16.jpg)\n",
      "\n",
      "![이 이미지는 \"샘플주문\"이라는 제목의 주문 입력 화면입니다. 상단에는 거래처 정보를 입력할 수 있는 부분이 있으며, 여기에는 거래처명, 거래처코드, 대표자 정보를 입력할 수 있는 필드가 있습니다. 거래처명을 검색할 수 있는 버튼도 포함되어 있습니다. 그 아래에는 샘플 신청 유형을 선택할 수 있는 드롭다운 메뉴가 있습니다. 중간 부분에는 고객명과 진료과를 입력할 수 있는 섹션이 있으며, 오른쪽에는 \"추가\"와 \"삭제\" 버튼이 있습니다. 하단에는 제품 정보를 입력하는 테이블이 있으며, 이곳에서는 제품명, 요청 수량, 지급 수량을 입력할 수 있습니다. 왼쪽에는 체크박스가 있어서 항목을 선택할 수 있습니다. 마지막으로, 가장 아래에는 \"저장\" 버튼이 있습니다.](그림18.jpg)\n",
      "② 거래처 조회\n",
      "① 등록\n",
      "③ 유형 선택\n",
      "-신약접수(종병)\n",
      "-제품소개용\n",
      "\n",
      "④ 고객 조회\n",
      "✔\n",
      "✔\n",
      "⑤ 품목 조회\n",
      "의료인 1인당 수량 1개\n",
      "\n",
      "※ 문의 : 규정 : 준법팀 (☎ 02-2204-7038 ) / 주문 및 배송 : 각 품목PM\n",
      "1\n"
     ]
    }
   ],
   "source": [
    "import re\n",
    "from markitdown import MarkItDown\n",
    "from openai import OpenAI\n",
    "import os\n",
    "\n",
    "client = OpenAI(api_key=os.getenv(\"OPENAI_API_KEY\"))\n",
    "md = MarkItDown(\n",
    "    llm_clien=client,\n",
    "    llm_model=\"gpt-4o\",\n",
    ")\n",
    "result = md.convert(\n",
    "    \"../samples/sample2.pptx\", llm_prompt=\"이 파일에 대한 설명은 한국어로 해주세요.\"\n",
    ")\n",
    "\n",
    "print(result.text_content)"
   ]
  },
  {
   "cell_type": "markdown",
   "metadata": {},
   "source": [
    "## Docx 테스트\n",
    "\n",
    "-   [테스트 파일](https://docs.google.com/document/d/1F3SzTt_RZ8STNlFhJ3BH3PoHtQ-zoGnq/edit?usp=sharing&ouid=112513971996779109920&rtpof=true&sd=true)\n"
   ]
  },
  {
   "cell_type": "code",
   "execution_count": null,
   "metadata": {},
   "outputs": [
    {
     "name": "stdout",
     "output_type": "stream",
     "text": [
      "**중수로피복관 경납땜 온도관리 시스템 개발**\n",
      "\n",
      "2016. 3. 28.\n",
      "\n",
      "**한전원![](data:image/jpeg;base64...)자력연료주식회사**\n",
      "\n",
      "요 약 문\n",
      "\n",
      "Ⅰ. 제 목\n",
      "\n",
      "중수로피복관 경납땜 온도 관리 시스템 개발\n",
      "\n",
      "Ⅱ. 연구의 목적 및 필요성\n",
      "\n",
      "○ 중수로 피복관 경납땜부 검사는 작업 배치(Batch) 단위의 조직검사가 수 행되고 있으나, 공정의 신뢰도 제고를 위해 경납땜 온도 관리 기술이 요구됨\n",
      "\n",
      "○ 원자재 업체의 다양화로 경납땜 온도 때문에 발생하는 불량(단결정 : sin gle grain 및 오목형 융대)에 대한 방지 대책이 요구됨\n",
      "\n",
      "Ⅲ. 연구의 내용 및 범위\n",
      "\n",
      "○ 중수로피복관 경납땜 온도 측정 방법 개발\n",
      "\n",
      "- 경납땜 온도 측정 방법 설계 및 제작\n",
      "\n",
      "- 적외선 고온계를 사용한 온도 측정 방법 개발\n",
      "\n",
      "○ 중수로피복관 최적의 경납땜 조건 확보\n",
      "\n",
      "- 중수로피복관 종류별 최적의 경납땜 온도 및 유지 시간 확보\n",
      "\n",
      "- 장비별 제품 종류별 최적 경납땜 조건 시험 자료 확보\n",
      "\n",
      "○ 중수로피복관 경납땜 온도 관리 방법 개발\n",
      "\n",
      "- 경납땜 작업 시 최적의 경납땜에서 조건을 유지 할 수 있는 경납땜 온도 관리 프로그램 개발\n",
      "\n",
      "- 설정된 최적의 경납땜 조건에서 벗어날 경우 경고음 발생\n",
      "\n",
      "Ⅳ. 연구결과 및 활용\n",
      "\n",
      "○ 개발된 중수로피복관 경납땜 온도 관리 시스템을 생산 장비에 적용 하 여 운영하고 있음\n"
     ]
    }
   ],
   "source": [
    "from markitdown import MarkItDown\n",
    "\n",
    "md = MarkItDown()\n",
    "\n",
    "result = md.convert(\n",
    "    \"../samples/sample.docx\",\n",
    ")\n",
    "\n",
    "print(result.text_content)"
   ]
  }
 ],
 "metadata": {
  "kernelspec": {
   "display_name": ".venv",
   "language": "python",
   "name": "python3"
  },
  "language_info": {
   "codemirror_mode": {
    "name": "ipython",
    "version": 3
   },
   "file_extension": ".py",
   "mimetype": "text/x-python",
   "name": "python",
   "nbconvert_exporter": "python",
   "pygments_lexer": "ipython3",
   "version": "3.11.9"
  }
 },
 "nbformat": 4,
 "nbformat_minor": 2
}
