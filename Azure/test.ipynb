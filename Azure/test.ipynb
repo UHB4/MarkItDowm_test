{
 "cells": [
  {
   "cell_type": "code",
   "execution_count": 15,
   "metadata": {},
   "outputs": [
    {
     "name": "stderr",
     "output_type": "stream",
     "text": [
      "DefaultAzureCredential failed to retrieve a token from the included credentials.\n",
      "Attempted credentials:\n",
      "\tEnvironmentCredential: EnvironmentCredential authentication unavailable. Environment variables are not fully configured.\n",
      "Visit https://aka.ms/azsdk/python/identity/environmentcredential/troubleshoot to troubleshoot this issue.\n",
      "\tManagedIdentityCredential: ManagedIdentityCredential authentication unavailable, no response from the IMDS endpoint.\n",
      "\tSharedTokenCacheCredential: SharedTokenCacheCredential authentication unavailable. No accounts were found in the cache.\n",
      "\tAzureCliCredential: Azure CLI not found on path\n",
      "\tAzurePowerShellCredential: Az.Account module >= 2.2.0 is not installed\n",
      "\tAzureDeveloperCliCredential: Azure Developer CLI could not be found. Please visit https://aka.ms/azure-dev for installation instructions and then,once installed, authenticate to your Azure account using 'azd auth login'.\n",
      "To mitigate this issue, please refer to the troubleshooting guidelines here at https://aka.ms/azsdk/python/identity/defaultazurecredential/troubleshoot.\n",
      "CropBox missing from /Page, defaulting to MediaBox\n"
     ]
    },
    {
     "name": "stdout",
     "output_type": "stream",
     "text": [
      "Simple Report\n",
      "Subtitle\n",
      "\n",
      "To get started, just tap or click this placeholder text and begin typing. You can\n",
      "\n",
      "view and edit this document on your Mac, iPad, iPhone, or on iCloud.com.\n",
      "\n",
      "It’s easy to edit text, change fonts and add beautiful graphics. Use paragraph\n",
      "\n",
      "styles to get a consistent look throughout your document. For example, this\n",
      "\n",
      "paragraph uses Body style. You can change it in the Text tab of the Format\n",
      "\n",
      "controls.\n",
      "\n",
      "To add photos, image galleries, audio clips, videos, charts or any of more than\n",
      "\n",
      "700 customisable shapes, tap or click one of the insert buttons in the toolbar\n",
      "\n",
      "or drag and drop the objects onto the page. You can layer objects, resize them\n",
      "\n",
      "and place them anywhere on the page. To change how an object moves with\n",
      "\n",
      "text, select the object and then tap or click the Arrange tab in the Format\n",
      "\n",
      "controls.\n",
      "\n",
      "Heading\n",
      "\n",
      "You can use Pages for both word processing and page layout. This Simple\n",
      "\n",
      "Report template is set up for word processing, so your text flows from one\n",
      "\n",
      "page to the next as you type, with new pages created automatically when you\n",
      "\n",
      "reach the end of a page.\n",
      "\n",
      "In page layout documents, you can manually rearrange pages and freely\n",
      "\n",
      "position text boxes, images and other objects on the page. To create a page\n",
      "\n",
      "layout document, choose a page layout template in the template chooser. You\n",
      "\n",
      "can also change this document to page layout on your Mac, iPad or iPhone by\n",
      "\n",
      "turning off Document Body in the Document controls.\n",
      "\n",
      "“This is an example of a pull quote (a key phrase from your\n",
      "report). Tap or click this text to add your own.”\n",
      "\n",
      "Footer\n",
      "\n",
      "1\n",
      "\n",
      "\n"
     ]
    }
   ],
   "source": [
    "from markitdown import MarkItDown\n",
    "\n",
    "\n",
    "md = MarkItDown(\n",
    "    docintel_endpoint=\"https://performence-test.cognitiveservices.azure.com/\",\n",
    "    docintel_key=\"8vxulAq1LDNALIJiGIHma2PpimRbj9T6Xx6HKkzFOM6EhRBXnrXSJQQJ99BDACYeBjFXJ3w3AAALACOGeksl\"\n",
    ")\n",
    "\n",
    "\n",
    "result = md.convert(\"../samples/sample.pdf\")\n",
    "\n",
    "\n",
    "print(result.markdown)  "
   ]
  }
 ],
 "metadata": {
  "kernelspec": {
   "display_name": ".venv",
   "language": "python",
   "name": "python3"
  },
  "language_info": {
   "codemirror_mode": {
    "name": "ipython",
    "version": 3
   },
   "file_extension": ".py",
   "mimetype": "text/x-python",
   "name": "python",
   "nbconvert_exporter": "python",
   "pygments_lexer": "ipython3",
   "version": "3.11.9"
  }
 },
 "nbformat": 4,
 "nbformat_minor": 2
}
