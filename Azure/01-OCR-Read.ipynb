{
 "cells": [
  {
   "cell_type": "markdown",
   "metadata": {},
   "source": [
    "## OCR/Read\n",
    "\n",
    "#### [Azure Document Intelligence Read 설명 문서](https://learn.microsoft.com/ko-kr/azure/ai-services/document-intelligence/prebuilt/read?view=doc-intel-4.0.0&tabs=sample-code)\n",
    "\n",
    "-   Optical Character Recognition(OCR) 기능으로 줄, 단어, 위치 및 언어를 감지 Document Intelligence의 다른 모델은 이 모델을 사용하여 이미지나 문서에서 텍스트를 추출\n"
   ]
  },
  {
   "cell_type": "markdown",
   "metadata": {},
   "source": []
  },
  {
   "cell_type": "markdown",
   "metadata": {},
   "source": []
  },
  {
   "cell_type": "code",
   "execution_count": 28,
   "metadata": {},
   "outputs": [
    {
     "name": "stdout",
     "output_type": "stream",
     "text": [
      "Azure Document Intelligence 클라이언트 초기화 완료\n"
     ]
    }
   ],
   "source": [
    "from azure.core.credentials import AzureKeyCredential\n",
    "from azure.ai.documentintelligence import DocumentIntelligenceClient\n",
    "from azure.ai.documentintelligence.models import AnalyzeDocumentRequest\n",
    "import numpy as np\n",
    "\n",
    "\n",
    "import os\n",
    "\n",
    "# 환경변수 설정\n",
    "endpoint = os.getenv(\"AZURE_DOCUMENT_INTELLIGENCE_ENDPOINT\")\n",
    "key = os.getenv(\"AZURE_DOCUMENT_INTELLIGENCE_KEY\")\n",
    "\n",
    "# 클라이언트 초기화\n",
    "document_intelligence_client = DocumentIntelligenceClient(\n",
    "    endpoint=endpoint, credential=AzureKeyCredential(key)\n",
    ")\n",
    "\n",
    "print(\"Azure Document Intelligence 클라이언트 초기화 완료\")"
   ]
  },
  {
   "cell_type": "code",
   "execution_count": 29,
   "metadata": {},
   "outputs": [],
   "source": [
    "def format_bounding_box(bounding_box):\n",
    "    if not bounding_box:\n",
    "        return \"N/A\"\n",
    "    reshaped_bounding_box = np.array(bounding_box).reshape(-1, 2)\n",
    "    return \", \".join([\"[{}, {}]\".format(x, y) for x, y in reshaped_bounding_box])\n",
    "\n",
    "\n",
    "def analyze_read():\n",
    "    url = (\n",
    "        \"https://blog.kakaocdn.net/dn/I43qo/btrwXzcUPWy/niBhpxVT0AUtgKkRwQKDcK/img.jpg\"\n",
    "    )\n",
    "\n",
    "    # OCR 분석 실행\n",
    "    poller = document_intelligence_client.begin_analyze_document(\n",
    "        \"prebuilt-read\", AnalyzeDocumentRequest(url_source=url)\n",
    "    )\n",
    "    result = poller.result()"
   ]
  },
  {
   "cell_type": "code",
   "execution_count": 30,
   "metadata": {},
   "outputs": [
    {
     "name": "stdout",
     "output_type": "stream",
     "text": [
      "=== 문서 분석 결과 세부 정보 ===\n",
      "\n",
      "--- 페이지 #1 분석 ---\n",
      "페이지 크기: 너비 3024.0, 높이 3024.0, 단위: LengthUnit.PIXEL\n",
      "\n",
      "텍스트 라인:\n",
      "  라인 #0: 'K20929 EXP' (위치: [886.0, 306.0], [1215.0, 309.0], [1214.0, 360.0], [886.0, 356.0])\n",
      "  라인 #1: '20241115까지' (위치: [887.0, 360.0], [1273.0, 365.0], [1272.0, 418.0], [886.0, 412.0])\n",
      "  라인 #2: '성원을 0' (위치: [950.0, 598.0], [1063.0, 576.0], [1068.0, 603.0], [957.0, 634.0])\n",
      "  라인 #3: '局易号' (위치: [996.0, 615.0], [954.0, 672.0], [927.0, 657.0], [968.0, 595.0])\n",
      "  라인 #4: '10' (위치: [1364.0, 613.0], [1510.0, 624.0], [1510.0, 723.0], [1364.0, 733.0])\n",
      "  라인 #5: '피부과' (위치: [1798.0, 625.0], [1894.0, 627.0], [1893.0, 665.0], [1798.0, 661.0])\n",
      "  라인 #6: '테스트' (위치: [1792.0, 668.0], [1892.0, 666.0], [1891.0, 704.0], [1792.0, 705.0])\n",
      "  라인 #7: '완료' (위치: [1811.0, 713.0], [1886.0, 713.0], [1885.0, 747.0], [1811.0, 747.0])\n",
      "  라인 #8: '일리윤 세라마이드 무향 립밤' (위치: [1091.0, 877.0], [1775.0, 885.0], [1774.0, 950.0], [1090.0, 942.0])\n",
      "  라인 #9: '내 입술에 직접 닿는 립밤 성분이 중요!' (위치: [1055.0, 1016.0], [1815.0, 1024.0], [1814.0, 1084.0], [1055.0, 1074.0])\n",
      "  ... 그 외 29개 라인\n",
      "\n",
      "단어 신뢰도:\n",
      "  단어: 'K20929', 신뢰도: 0.9890\n",
      "  단어: 'EXP', 신뢰도: 0.9900\n",
      "  단어: '20241115', 신뢰도: 0.9830\n",
      "  단어: '까', 신뢰도: 0.9900\n",
      "  단어: '지', 신뢰도: 0.9450\n",
      "  단어: '성', 신뢰도: 0.2390\n",
      "  단어: '원', 신뢰도: 0.9470\n",
      "  단어: '을', 신뢰도: 0.7570\n",
      "  단어: '0', 신뢰도: 0.8680\n",
      "  단어: '局', 신뢰도: 0.7590\n",
      "  단어: '易', 신뢰도: 0.6770\n",
      "  단어: '号', 신뢰도: 0.8870\n",
      "  단어: '10', 신뢰도: 0.9650\n",
      "  단어: '피', 신뢰도: 0.9900\n",
      "  단어: '부', 신뢰도: 0.9960\n",
      "  단어: '과', 신뢰도: 0.9950\n",
      "  단어: '테', 신뢰도: 0.9950\n",
      "  단어: '스', 신뢰도: 0.9960\n",
      "  단어: '트', 신뢰도: 0.9960\n",
      "  단어: '완', 신뢰도: 0.9940\n",
      "  ... 그 외 668개 단어\n"
     ]
    },
    {
     "ename": "",
     "evalue": "",
     "output_type": "error",
     "traceback": [
      "\u001b[1;31mThe Kernel crashed while executing code in the current cell or a previous cell. \n",
      "\u001b[1;31mPlease review the code in the cell(s) to identify a possible cause of the failure. \n",
      "\u001b[1;31mClick <a href='https://aka.ms/vscodeJupyterKernelCrash'>here</a> for more info. \n",
      "\u001b[1;31mView Jupyter <a href='command:jupyter.viewOutput'>log</a> for further details."
     ]
    }
   ],
   "source": [
    "# 전체 결과 세부 정보 출력\n",
    "\n",
    "print(\"=== 문서 분석 결과 세부 정보 ===\")\n",
    "\n",
    "for idx, style in enumerate(result.styles):\n",
    "    print(\n",
    "        f\"문서에는 {'필기체' if style.is_handwritten else '인쇄체'} 내용이 포함되어 있습니다.\"\n",
    "    )\n",
    "\n",
    "for page in result.pages:\n",
    "    print(f\"\\n--- 페이지 #{page.page_number} 분석 ---\")\n",
    "    print(f\"페이지 크기: 너비 {page.width}, 높이 {page.height}, 단위: {page.unit}\")\n",
    "\n",
    "    print(\"\\n텍스트 라인:\")\n",
    "    for i, line in enumerate(page.lines[:10]):  # 처음 10개 라인만 표시\n",
    "        print(\n",
    "            f\"  라인 #{i}: '{line.content}' (위치: {format_bounding_box(line.polygon)})\"\n",
    "        )\n",
    "\n",
    "    if len(page.lines) > 10:\n",
    "        print(f\"  ... 그 외 {len(page.lines) - 10}개 라인\")\n",
    "\n",
    "    print(\"\\n단어 신뢰도:\")\n",
    "    for i, word in enumerate(page.words[:20]):  # 처음 20개 단어만 표시\n",
    "        print(f\"  단어: '{word.content}', 신뢰도: {word.confidence:.4f}\")\n",
    "\n",
    "    if len(page.words) > 20:\n",
    "        print(f\"  ... 그 외 {len(page.words) - 20}개 단어\")"
   ]
  }
 ],
 "metadata": {
  "kernelspec": {
   "display_name": ".venv",
   "language": "python",
   "name": "python3"
  },
  "language_info": {
   "codemirror_mode": {
    "name": "ipython",
    "version": 3
   },
   "file_extension": ".py",
   "mimetype": "text/x-python",
   "name": "python",
   "nbconvert_exporter": "python",
   "pygments_lexer": "ipython3",
   "version": "3.11.9"
  }
 },
 "nbformat": 4,
 "nbformat_minor": 2
}
